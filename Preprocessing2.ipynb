{
  "nbformat": 4,
  "nbformat_minor": 0,
  "metadata": {
    "colab": {
      "provenance": []
    },
    "kernelspec": {
      "name": "python3",
      "display_name": "Python 3"
    },
    "language_info": {
      "name": "python"
    }
  },
  "cells": [
    {
      "cell_type": "code",
      "execution_count": 1,
      "metadata": {
        "id": "AqydPP-FKSl8"
      },
      "outputs": [],
      "source": [
        "# Import libraries and load raw AQI data\n",
        "import pandas as pd\n",
        "import numpy as np\n",
        "df = pd.read_csv('/content/raw_aqi_data.csv')"
      ]
    },
    {
      "cell_type": "code",
      "source": [
        "# Handle missing values and convert Date column\n",
        "df = df.dropna(subset=[\"AQI_Bucket\"])  # Drop rows with missing target\n",
        "df.fillna(df.mean(numeric_only=True), inplace=True)  # Fill missing numeric values with mean\n",
        "df[\"Date\"] = pd.to_datetime(df[\"Date\"], errors=\"coerce\")\n",
        "df[\"Year\"] = df[\"Date\"].dt.year\n",
        "df[\"Month\"] = df[\"Date\"].dt.month\n"
      ],
      "metadata": {
        "id": "lIqI2O7DKk0f"
      },
      "execution_count": 2,
      "outputs": []
    },
    {
      "cell_type": "code",
      "source": [
        "# Encode categorical features and save processed data\n",
        "from sklearn.preprocessing import LabelEncoder\n",
        "label_enc = LabelEncoder()\n",
        "df[\"AQI_Bucket\"] = label_enc.fit_transform(df[\"AQI_Bucket\"].astype(str))\n",
        "for col in [\"City\", \"Station\"]:\n",
        "    if col in df.columns:\n",
        "        df[col] = LabelEncoder().fit_transform(df[col].astype(str))\n",
        "df.to_csv('/content/processed_aqi.csv', index=False)"
      ],
      "metadata": {
        "id": "ErJf-wClKkxv"
      },
      "execution_count": 4,
      "outputs": []
    }
  ]
}